{
 "cells": [
  {
   "cell_type": "code",
   "execution_count": 1,
   "metadata": {},
   "outputs": [],
   "source": [
    "import pandas as pd"
   ]
  },
  {
   "cell_type": "code",
   "execution_count": 2,
   "metadata": {},
   "outputs": [],
   "source": [
    "bogota_i = pd.read_csv('inmigrantes bogota.csv')\n",
    "bogota_e = pd.read_csv('emigrantes bogota.csv')"
   ]
  },
  {
   "cell_type": "code",
   "execution_count": 7,
   "metadata": {},
   "outputs": [
    {
     "data": {
      "text/html": [
       "<div>\n",
       "<style scoped>\n",
       "    .dataframe tbody tr th:only-of-type {\n",
       "        vertical-align: middle;\n",
       "    }\n",
       "\n",
       "    .dataframe tbody tr th {\n",
       "        vertical-align: top;\n",
       "    }\n",
       "\n",
       "    .dataframe thead th {\n",
       "        text-align: right;\n",
       "    }\n",
       "</style>\n",
       "<table border=\"1\" class=\"dataframe\">\n",
       "  <thead>\n",
       "    <tr style=\"text-align: right;\">\n",
       "      <th></th>\n",
       "      <th>VIAC_EMIGRA_INMIGRA</th>\n",
       "      <th>VIAN_NACIONALIDAD</th>\n",
       "      <th>VIAC_SEXO</th>\n",
       "      <th>VIAN_MOTIVO_VIAJE</th>\n",
       "      <th>VIAF_VIAJE</th>\n",
       "      <th>VIAN_PAIS_DESTINO</th>\n",
       "      <th>VIAN_DEPTO_DESTINO</th>\n",
       "      <th>VIAN_CIUDAD_DESTINO</th>\n",
       "      <th>VIAC_ESTADO</th>\n",
       "      <th>VIAC_MEDIO_TRANSPORTE</th>\n",
       "      <th>VIAC_OCUPACION</th>\n",
       "      <th>RANGO_EDAD</th>\n",
       "      <th>REGION_DESTINO</th>\n",
       "      <th>REGION_NACIONALIDAD</th>\n",
       "      <th>Año</th>\n",
       "      <th>Mes</th>\n",
       "      <th>Dia</th>\n",
       "      <th>Fecha</th>\n",
       "    </tr>\n",
       "  </thead>\n",
       "  <tbody>\n",
       "    <tr>\n",
       "      <th>0</th>\n",
       "      <td>E</td>\n",
       "      <td>ALEMANIA</td>\n",
       "      <td>M</td>\n",
       "      <td>TURISMO</td>\n",
       "      <td>2018-12-09 14:08:46</td>\n",
       "      <td>COLOMBIA</td>\n",
       "      <td>BOGOTÁ, D.C.</td>\n",
       "      <td>BOGOTÁ, D.C.</td>\n",
       "      <td>V</td>\n",
       "      <td>AEREO</td>\n",
       "      <td>NaN</td>\n",
       "      <td>50 a 59 años</td>\n",
       "      <td>América del Sur</td>\n",
       "      <td>Europa</td>\n",
       "      <td>2018</td>\n",
       "      <td>12</td>\n",
       "      <td>9</td>\n",
       "      <td>2018-12-09</td>\n",
       "    </tr>\n",
       "    <tr>\n",
       "      <th>1</th>\n",
       "      <td>E</td>\n",
       "      <td>ALEMANIA</td>\n",
       "      <td>M</td>\n",
       "      <td>TURISMO</td>\n",
       "      <td>2018-05-15 06:46:17</td>\n",
       "      <td>COLOMBIA</td>\n",
       "      <td>BOGOTÁ, D.C.</td>\n",
       "      <td>BOGOTÁ, D.C.</td>\n",
       "      <td>V</td>\n",
       "      <td>AEREO</td>\n",
       "      <td>NaN</td>\n",
       "      <td>40 a 49 años</td>\n",
       "      <td>América del Sur</td>\n",
       "      <td>Europa</td>\n",
       "      <td>2018</td>\n",
       "      <td>5</td>\n",
       "      <td>15</td>\n",
       "      <td>2018-05-15</td>\n",
       "    </tr>\n",
       "    <tr>\n",
       "      <th>2</th>\n",
       "      <td>E</td>\n",
       "      <td>ALEMANIA</td>\n",
       "      <td>F</td>\n",
       "      <td>TURISMO</td>\n",
       "      <td>2018-05-14 11:56:22</td>\n",
       "      <td>COLOMBIA</td>\n",
       "      <td>BOGOTÁ, D.C.</td>\n",
       "      <td>BOGOTÁ, D.C.</td>\n",
       "      <td>V</td>\n",
       "      <td>AEREO</td>\n",
       "      <td>NaN</td>\n",
       "      <td>60 a 69 años</td>\n",
       "      <td>América del Sur</td>\n",
       "      <td>Europa</td>\n",
       "      <td>2018</td>\n",
       "      <td>5</td>\n",
       "      <td>14</td>\n",
       "      <td>2018-05-14</td>\n",
       "    </tr>\n",
       "    <tr>\n",
       "      <th>3</th>\n",
       "      <td>E</td>\n",
       "      <td>ALEMANIA</td>\n",
       "      <td>M</td>\n",
       "      <td>TURISMO</td>\n",
       "      <td>2018-01-03 13:03:30</td>\n",
       "      <td>COLOMBIA</td>\n",
       "      <td>BOGOTÁ, D.C.</td>\n",
       "      <td>BOGOTÁ, D.C.</td>\n",
       "      <td>V</td>\n",
       "      <td>AEREO</td>\n",
       "      <td>NaN</td>\n",
       "      <td>50 a 59 años</td>\n",
       "      <td>América del Sur</td>\n",
       "      <td>Europa</td>\n",
       "      <td>2018</td>\n",
       "      <td>1</td>\n",
       "      <td>3</td>\n",
       "      <td>2018-01-03</td>\n",
       "    </tr>\n",
       "    <tr>\n",
       "      <th>4</th>\n",
       "      <td>E</td>\n",
       "      <td>ALEMANIA</td>\n",
       "      <td>M</td>\n",
       "      <td>TURISMO</td>\n",
       "      <td>2018-12-19 11:48:44</td>\n",
       "      <td>COLOMBIA</td>\n",
       "      <td>BOGOTÁ, D.C.</td>\n",
       "      <td>BOGOTÁ, D.C.</td>\n",
       "      <td>V</td>\n",
       "      <td>AEREO</td>\n",
       "      <td>NaN</td>\n",
       "      <td>40 a 49 años</td>\n",
       "      <td>América del Sur</td>\n",
       "      <td>Europa</td>\n",
       "      <td>2018</td>\n",
       "      <td>12</td>\n",
       "      <td>19</td>\n",
       "      <td>2018-12-19</td>\n",
       "    </tr>\n",
       "  </tbody>\n",
       "</table>\n",
       "</div>"
      ],
      "text/plain": [
       "  VIAC_EMIGRA_INMIGRA VIAN_NACIONALIDAD VIAC_SEXO VIAN_MOTIVO_VIAJE  \\\n",
       "0                   E          ALEMANIA         M           TURISMO   \n",
       "1                   E          ALEMANIA         M           TURISMO   \n",
       "2                   E          ALEMANIA         F           TURISMO   \n",
       "3                   E          ALEMANIA         M           TURISMO   \n",
       "4                   E          ALEMANIA         M           TURISMO   \n",
       "\n",
       "            VIAF_VIAJE VIAN_PAIS_DESTINO VIAN_DEPTO_DESTINO  \\\n",
       "0  2018-12-09 14:08:46          COLOMBIA       BOGOTÁ, D.C.   \n",
       "1  2018-05-15 06:46:17          COLOMBIA       BOGOTÁ, D.C.   \n",
       "2  2018-05-14 11:56:22          COLOMBIA       BOGOTÁ, D.C.   \n",
       "3  2018-01-03 13:03:30          COLOMBIA       BOGOTÁ, D.C.   \n",
       "4  2018-12-19 11:48:44          COLOMBIA       BOGOTÁ, D.C.   \n",
       "\n",
       "  VIAN_CIUDAD_DESTINO VIAC_ESTADO VIAC_MEDIO_TRANSPORTE  VIAC_OCUPACION  \\\n",
       "0        BOGOTÁ, D.C.           V                 AEREO             NaN   \n",
       "1        BOGOTÁ, D.C.           V                 AEREO             NaN   \n",
       "2        BOGOTÁ, D.C.           V                 AEREO             NaN   \n",
       "3        BOGOTÁ, D.C.           V                 AEREO             NaN   \n",
       "4        BOGOTÁ, D.C.           V                 AEREO             NaN   \n",
       "\n",
       "     RANGO_EDAD   REGION_DESTINO REGION_NACIONALIDAD   Año  Mes  Dia  \\\n",
       "0  50 a 59 años  América del Sur              Europa  2018   12    9   \n",
       "1  40 a 49 años  América del Sur              Europa  2018    5   15   \n",
       "2  60 a 69 años  América del Sur              Europa  2018    5   14   \n",
       "3  50 a 59 años  América del Sur              Europa  2018    1    3   \n",
       "4  40 a 49 años  América del Sur              Europa  2018   12   19   \n",
       "\n",
       "        Fecha  \n",
       "0  2018-12-09  \n",
       "1  2018-05-15  \n",
       "2  2018-05-14  \n",
       "3  2018-01-03  \n",
       "4  2018-12-19  "
      ]
     },
     "execution_count": 7,
     "metadata": {},
     "output_type": "execute_result"
    }
   ],
   "source": [
    "bogota_e.head()"
   ]
  },
  {
   "cell_type": "code",
   "execution_count": 12,
   "metadata": {},
   "outputs": [
    {
     "name": "stdout",
     "output_type": "stream",
     "text": [
      "Promedio de personas por día en cada año: Año\n",
      "2018    36.583562\n",
      "2019    41.235616\n",
      "2020     2.846939\n",
      "2021     4.265455\n",
      "dtype: float64\n",
      "Promedio de personas por día: 27.067996373526746\n",
      "Promedio de personas por año: 7464.0\n"
     ]
    }
   ],
   "source": [
    "# Asegúrate de que `VIAF_VIAJE` esté en formato de fecha\n",
    "bogota_e['VIAF_VIAJE'] = pd.to_datetime(bogota_e['VIAF_VIAJE'], format='%Y/%m/%d %H:%M:%S')\n",
    "\n",
    "# Contar el número de personas por día\n",
    "personas_por_dia = bogota_e.groupby(bogota_e['VIAF_VIAJE'].dt.date).size()\n",
    "\n",
    "# Calcular el promedio de personas por día\n",
    "promedio_por_dia = personas_por_dia.mean()\n",
    "\n",
    "# Contar el número de personas por año\n",
    "personas_por_año = bogota_e.groupby(bogota_e['VIAF_VIAJE'].dt.year).size()\n",
    "\n",
    "# Calcular el promedio de personas por año\n",
    "promedio_por_año = personas_por_año.mean()\n",
    "\n",
    "bogota_e['VIAF_VIAJE'] = pd.to_datetime(bogota_e['VIAF_VIAJE'], format='%m/%d/%Y %H:%M:%S')\n",
    "\n",
    "# Agrega columnas para año y día\n",
    "bogota_e['Año'] = bogota_e['VIAF_VIAJE'].dt.year\n",
    "bogota_e['Fecha'] = bogota_e['VIAF_VIAJE'].dt.date\n",
    "\n",
    "# Cuenta el número de personas por día en cada año\n",
    "personas_por_dia_anual = bogota_e.groupby(['Año', 'Fecha']).size()\n",
    "\n",
    "# Calcula el promedio de personas por día en cada año\n",
    "promedio_por_dia_anual = personas_por_dia_anual.groupby(level=0).mean()\n",
    "\n",
    "print(\"Promedio de personas por día en cada año:\", promedio_por_dia_anual)\n",
    "print(\"Promedio de personas por día:\", promedio_por_dia)\n",
    "print(\"Promedio de personas por año:\", promedio_por_año)"
   ]
  },
  {
   "cell_type": "code",
   "execution_count": null,
   "metadata": {},
   "outputs": [],
   "source": []
  },
  {
   "cell_type": "code",
   "execution_count": null,
   "metadata": {},
   "outputs": [],
   "source": []
  },
  {
   "cell_type": "code",
   "execution_count": null,
   "metadata": {},
   "outputs": [],
   "source": []
  },
  {
   "cell_type": "code",
   "execution_count": null,
   "metadata": {},
   "outputs": [],
   "source": [
    "e"
   ]
  },
  {
   "cell_type": "code",
   "execution_count": 18,
   "metadata": {},
   "outputs": [
    {
     "data": {
      "text/plain": [
       "(15051, 13353)"
      ]
     },
     "execution_count": 18,
     "metadata": {},
     "output_type": "execute_result"
    }
   ],
   "source": [
    "len(bogota_e[bogota_e['Año'] == 2019]), len(bogota_e[bogota_e['Año'] == 2018])"
   ]
  },
  {
   "cell_type": "code",
   "execution_count": 19,
   "metadata": {},
   "outputs": [
    {
     "data": {
      "text/plain": [
       "(87213, 67556)"
      ]
     },
     "execution_count": 19,
     "metadata": {},
     "output_type": "execute_result"
    }
   ],
   "source": [
    "len(bogota_i[bogota_i['Año'] == 2019]), len(bogota_i[bogota_i['Año'] == 2018])"
   ]
  },
  {
   "cell_type": "code",
   "execution_count": 3,
   "metadata": {},
   "outputs": [
    {
     "data": {
      "text/plain": [
       "(157268, 29856)"
      ]
     },
     "execution_count": 3,
     "metadata": {},
     "output_type": "execute_result"
    }
   ],
   "source": [
    "len(bogota_i), len(bogota_e)"
   ]
  },
  {
   "cell_type": "code",
   "execution_count": 5,
   "metadata": {},
   "outputs": [
    {
     "data": {
      "text/plain": [
       "I    157125\n",
       "V       103\n",
       "C        24\n",
       "E        16\n",
       "Name: VIAC_ESTADO, dtype: int64"
      ]
     },
     "execution_count": 5,
     "metadata": {},
     "output_type": "execute_result"
    }
   ],
   "source": [
    "bogota_i.VIAC_ESTADO.value_counts()"
   ]
  },
  {
   "cell_type": "code",
   "execution_count": 6,
   "metadata": {},
   "outputs": [
    {
     "data": {
      "text/plain": [
       "V    29637\n",
       "C      218\n",
       "E        1\n",
       "Name: VIAC_ESTADO, dtype: int64"
      ]
     },
     "execution_count": 6,
     "metadata": {},
     "output_type": "execute_result"
    }
   ],
   "source": [
    "bogota_e.VIAC_ESTADO.value_counts()"
   ]
  }
 ],
 "metadata": {
  "kernelspec": {
   "display_name": "Python 3",
   "language": "python",
   "name": "python3"
  },
  "language_info": {
   "codemirror_mode": {
    "name": "ipython",
    "version": 3
   },
   "file_extension": ".py",
   "mimetype": "text/x-python",
   "name": "python",
   "nbconvert_exporter": "python",
   "pygments_lexer": "ipython3",
   "version": "3.9.13"
  }
 },
 "nbformat": 4,
 "nbformat_minor": 2
}
